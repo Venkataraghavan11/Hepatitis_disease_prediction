{
  "cells": [
    {
      "cell_type": "code",
      "execution_count": null,
      "id": "e80f142d",
      "metadata": {
        "id": "e80f142d"
      },
      "outputs": [],
      "source": [
        "## import data   \n",
        "\n",
        "import numpy as np \n",
        "import pandas as pd \n",
        "import seaborn as sns\n",
        "import matplotlib.pyplot as plt\n",
        "%matplotlib inline\n",
        "\n",
        "import datetime\n",
        "## Algorithms which are we tried. \n",
        "\n",
        "import xgboost as xgb\n",
        "from sklearn.ensemble import GradientBoostingClassifier \n",
        "from sklearn.ensemble import RandomForestClassifier\n",
        "from sklearn.linear_model import LogisticRegression   \n",
        "import xgboost as xgb\n",
        "from xgboost.sklearn import XGBClassifier  \n",
        "from xgboost import plot_importance\n",
        "\n",
        "import joblib \n",
        "import pickle\n",
        "from sklearn.model_selection import train_test_split as tts\n",
        "from sklearn.model_selection import cross_val_score, GridSearchCV\n",
        "  \n",
        "\n",
        "from sklearn.metrics import mean_squared_error\n",
        "from sklearn.metrics import f1_score, precision_score, accuracy_score, roc_auc_score, recall_score, roc_curve\n",
        "from sklearn.metrics import make_scorer, confusion_matrix, classification_report   \n",
        "\n",
        "import warnings \n",
        "warnings.filterwarnings('ignore')"
      ]
    },
    {
      "cell_type": "code",
      "execution_count": null,
      "id": "b81b3051",
      "metadata": {
        "id": "b81b3051"
      },
      "outputs": [],
      "source": [
        "df = pd.read_csv('heppatitis.csv')\n",
        "df.head()"
      ]
    },
    {
      "cell_type": "code",
      "execution_count": null,
      "id": "19bc3205",
      "metadata": {
        "id": "19bc3205"
      },
      "outputs": [],
      "source": [
        "replace_value = {'Yes':1,'No':0}\n",
        "\n",
        "df['Nausea'] = df['Nausea'].map(replace_value)"
      ]
    },
    {
      "cell_type": "code",
      "execution_count": null,
      "id": "caf827c4",
      "metadata": {
        "id": "caf827c4"
      },
      "outputs": [],
      "source": [
        "df['difficulty breathing'] = df['difficulty breathing'].map(replace_value)\n",
        "df['sudden weight loss'] = df['sudden weight loss'].map(replace_value)\n",
        "df['weakness'] = df['weakness'].map(replace_value)\n",
        "df['Polyphagia'] = df['Polyphagia'].map(replace_value)\n",
        "df['Genital thrush'] = df['Genital thrush'].map(replace_value)\n",
        "df['visual blurring'] = df['visual blurring'].map(replace_value)\n",
        "df['Itching'] = df['Itching'].map(replace_value)\n",
        "df['Irritability'] = df['Irritability'].map(replace_value)\n",
        "df['delayed healing'] = df['delayed healing'].map(replace_value)\n",
        "df['Headache'] = df['Headache'].map(replace_value)\n",
        "df['fever'] = df['fever'].map(replace_value)\n",
        "df['cold'] = df['cold'].map(replace_value)\n",
        "df['Jaundice'] = df['Jaundice'].map(replace_value)"
      ]
    },
    {
      "cell_type": "code",
      "execution_count": null,
      "id": "eb12845e",
      "metadata": {
        "id": "eb12845e"
      },
      "outputs": [],
      "source": [
        "replace_value = {'Male':1,'Female':0}\n",
        "df['Gender'] = df['Gender'].map(replace_value)"
      ]
    },
    {
      "cell_type": "code",
      "execution_count": null,
      "id": "24167474",
      "metadata": {
        "id": "24167474"
      },
      "outputs": [],
      "source": [
        "replace_value = {'Positive':1,'Negative':0}\n",
        "df['class'] = df['class'].map(replace_value)"
      ]
    },
    {
      "cell_type": "code",
      "execution_count": null,
      "id": "cbe07f36",
      "metadata": {
        "id": "cbe07f36"
      },
      "outputs": [],
      "source": [
        "df['class'].value_counts()"
      ]
    },
    {
      "cell_type": "code",
      "execution_count": null,
      "id": "8437bc20",
      "metadata": {
        "id": "8437bc20"
      },
      "outputs": [],
      "source": [
        "df.head(10)"
      ]
    },
    {
      "cell_type": "code",
      "execution_count": null,
      "id": "af38482a",
      "metadata": {
        "id": "af38482a"
      },
      "outputs": [],
      "source": [
        "X = df.drop('class', axis=1)\n",
        "y = df['class']"
      ]
    },
    {
      "cell_type": "code",
      "execution_count": null,
      "id": "cc123570",
      "metadata": {
        "id": "cc123570"
      },
      "outputs": [],
      "source": [
        "X.head()"
      ]
    },
    {
      "cell_type": "code",
      "execution_count": null,
      "id": "ab1ff172",
      "metadata": {
        "id": "ab1ff172"
      },
      "outputs": [],
      "source": [
        "from sklearn.model_selection import train_test_split\n",
        "\n",
        "# help(train_test_split)\n",
        "\n",
        "X_train, X_test, y_train, y_test = train_test_split(X, y, test_size=0.2, random_state=42)"
      ]
    },
    {
      "cell_type": "code",
      "execution_count": null,
      "id": "2d021e4c",
      "metadata": {
        "id": "2d021e4c"
      },
      "outputs": [],
      "source": [
        "## hyper parameter tuning \n",
        "model_parameters = {'n_estimators': [10, 50, 100, 200, 500, 750, 1000], \n",
        "                    'max_depth': [3, 5, 10],\n",
        "                    'min_samples_leaf': [np.random.randint(1,10)], \n",
        "                    'max_features': [None, 'sqrt', 'log2']}\n",
        "\n",
        "\n",
        "model = GradientBoostingClassifier(random_state = 10)\n",
        "\n",
        "\n",
        "gscv_GBM = GridSearchCV(estimator = model, \n",
        "                        param_grid = model_parameters, \n",
        "                        cv = 5, \n",
        "                        verbose = 1, \n",
        "                        n_jobs = -1,\n",
        "                        scoring = 'roc_auc')\n",
        "\n",
        "gscv_GBM.fit(X_train, y_train)"
      ]
    },
    {
      "cell_type": "code",
      "execution_count": null,
      "id": "abf7c80a",
      "metadata": {
        "id": "abf7c80a"
      },
      "outputs": [],
      "source": [
        "## finding differnet parameters\n",
        "\n",
        "print('The best parameters are -', gscv_GBM.best_params_)"
      ]
    },
    {
      "cell_type": "code",
      "execution_count": null,
      "id": "fd4425ab",
      "metadata": {
        "id": "fd4425ab"
      },
      "outputs": [],
      "source": [
        "## fuitting model with differnt hyber parameters\n",
        "\n",
        "final_mod_GBM = GradientBoostingClassifier(**gscv_GBM.best_params_)\n",
        "final_mod_GBM.fit(X_train, y_train)"
      ]
    },
    {
      "cell_type": "code",
      "execution_count": null,
      "id": "d6e11b83",
      "metadata": {
        "id": "d6e11b83"
      },
      "outputs": [],
      "source": [
        "X_train.head(1)"
      ]
    },
    {
      "cell_type": "code",
      "execution_count": null,
      "id": "01a92ff6",
      "metadata": {
        "id": "01a92ff6"
      },
      "outputs": [],
      "source": [
        "final_mod_GBM.predict([[53, 1, 1, 1, 1, 1, 1, 0, 1, 0, 1, 0, 1, 0, 1, 0]])[0]"
      ]
    },
    {
      "cell_type": "code",
      "execution_count": null,
      "id": "9b3c9cd5",
      "metadata": {
        "id": "9b3c9cd5"
      },
      "outputs": [],
      "source": [
        "joblib.dump(final_mod_GBM, 'final_model.pkl')"
      ]
    },
    {
      "cell_type": "code",
      "execution_count": null,
      "id": "e2e4932f",
      "metadata": {
        "id": "e2e4932f"
      },
      "outputs": [],
      "source": [
        "train_pred = final_mod_GBM.predict(X_train)\n",
        "test_pred = final_mod_GBM.predict(X_test)"
      ]
    },
    {
      "cell_type": "code",
      "execution_count": null,
      "id": "3e6ff739",
      "metadata": {
        "id": "3e6ff739"
      },
      "outputs": [],
      "source": [
        "\n",
        "print('Classification report for train data is : \\n',\n",
        "      classification_report(y_train, train_pred))\n",
        "print('Classification report for test data is : \\n',\n",
        "      classification_report(y_test, test_pred))"
      ]
    },
    {
      "cell_type": "code",
      "execution_count": null,
      "id": "2b956ea8",
      "metadata": {
        "id": "2b956ea8"
      },
      "outputs": [],
      "source": [
        "log_reg = LogisticRegression(solver = 'liblinear')\n",
        "log_reg.fit(X_train, y_train)"
      ]
    },
    {
      "cell_type": "code",
      "execution_count": null,
      "id": "a2099337",
      "metadata": {
        "id": "a2099337"
      },
      "outputs": [],
      "source": [
        "\n",
        "train_pred = log_reg.predict(X_train)\n",
        "test_pred = log_reg.predict(X_test)"
      ]
    },
    {
      "cell_type": "code",
      "execution_count": null,
      "id": "f9bb0a41",
      "metadata": {
        "id": "f9bb0a41"
      },
      "outputs": [],
      "source": [
        "print('Classification report for train data is : \\n',\n",
        "      classification_report(y_train, train_pred))\n",
        "print('Classification report for test data is : \\n',\n",
        "      classification_report(y_test, test_pred))"
      ]
    }
  ],
  "metadata": {
    "kernelspec": {
      "display_name": "Python 3 (ipykernel)",
      "language": "python",
      "name": "python3"
    },
    "language_info": {
      "codemirror_mode": {
        "name": "ipython",
        "version": 3
      },
      "file_extension": ".py",
      "mimetype": "text/x-python",
      "name": "python",
      "nbconvert_exporter": "python",
      "pygments_lexer": "ipython3",
      "version": "3.7.0"
    },
    "colab": {
      "provenance": []
    }
  },
  "nbformat": 4,
  "nbformat_minor": 5
}